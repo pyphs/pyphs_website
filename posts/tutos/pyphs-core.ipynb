{
 "cells": [
  {
   "cell_type": "markdown",
   "metadata": {},
   "source": [
    "In this tutorial, we firstly recall the *port-Hamiltonian systems (PHS)* formalism in parallel with a description of the `pyphs.Core` object. Secondly, we build the `pyphs.Core` object associated with a two-ports serial RL circuit. Finally the Thiele-Small model of the loudspeaker is derived by connecting the RL circuit with a mass-spring-damper system. \n",
    "<!-- TEASER_END -->\n",
    "\n",
    "The corresponding Python script `Core.py` can be found in the tutorials at `\\pyphs\\tutorials\\`"
   ]
  },
  {
   "cell_type": "markdown",
   "metadata": {},
   "source": [
    "# PHS structure of the Thiele-Small model\n",
    "\n",
    "Steps are:\n",
    "1. prepare the *governing equations* for the RL circuit,\n",
    "2. instantiate a `pyphs.Core` *object*,\n",
    "3. add the *components* (storage, dissipative and source),\n",
    "4. define the *PHS structure* matrices (here the serial connection),\n",
    "5. create the mass-spring-damper PHS as described in (1-4) and connect both `pyphs.Core` *objects*,\n",
    "6. set the parameters values,\n",
    "7. reduce the linear dissipative part,\n",
    "8. simplify inversed symbols.\n",
    "\n",
    "Bonus: Generate the associated LaTex document.\n",
    "\n",
    "## 1. Governing equations\n",
    "The two-ports RL circuit is described as follows:\n",
    "* $x_L$ is the coil flux so that $v_L = \\frac{\\mathrm d x_L}{\\mathrm d  t}$ is the coil voltage,  \n",
    "* $w_R= i_R$ is the resistor current, \n",
    "* $y1=i_{\\mathrm{1}}$ is the current at port #1 \n",
    "* $u1=v_1$ is the voltage at port #1.\n",
    "* $y2=i_{\\mathrm{2}}$ is the current at port #2 \n",
    "* $u2=v_2$ is the voltage at port #2.\n",
    "\n",
    "For this tutorial, the constitutive laws are:\n",
    "* the storage function (Hamiltonian) $$H(x_L)=\\frac{x_L^2}{2L}$$ so that the (linear) coil current is $i_L=\\frac{\\partial H}{\\partial x_L}=\\frac{x_L}{L}$,\n",
    "* the linear dissipation function $z_R(w_R)= R \\,w_R = v_R$ with $v_R$ the resistor voltage. \n",
    "\n",
    "The Kirchhoff's laws for a serial connection read: \n",
    "* Kirchhoff's current law: $ v_L=-v_C-v_R-v_1-v2$,\n",
    "* Kirchhoff's vcurrent law: $i_L = i_R = i_1 = i_2$.\n",
    "\n",
    "This can be expressed in the *Port-Hamiltonian Systems* (PHS) formalism as:\n",
    "\n",
    "\\begin{equation}\n",
    "\\begin{pmatrix}\n",
    "\\frac{dx_L}{dt} \\\\\n",
    "\\hline\n",
    "w_R \\\\\n",
    "\\hline\n",
    "y_1 \\\\\n",
    "y_2\n",
    "\\end{pmatrix}\n",
    "= \n",
    "\\left(\n",
    "\\begin{array}{c|c|cc|c}\n",
    "0 &-1 &-1& -1 \\\\\n",
    "\\hline\n",
    "1 &0 &0 &0 \\\\\n",
    "\\hline\n",
    "1 &0 &0& 0 \\\\\n",
    "1 &0& 0 &0\n",
    "\\end{array}\n",
    "\\right)\n",
    "\\begin{pmatrix}\n",
    "\\frac{dH}{dx_L} \\\\\n",
    "\\hline\n",
    "z(w_R) \\\\\n",
    "\\hline\n",
    "u_1 \\\\\n",
    "u_2\n",
    "\\end{pmatrix}\n",
    "\\end{equation}\n",
    "\n",
    "#### Physical parameters\n",
    "* $L=500\\times 10^{-3}$H, \n",
    "* $R = 10^2\\Omega$.\n",
    "\n",
    "## 2. Object instantiation"
   ]
  },
  {
   "cell_type": "markdown",
   "metadata": {},
   "source": [
    "In this tutorial, we need only the core PHS structure implemented by the `pyphs.Core` object:"
   ]
  },
  {
   "cell_type": "code",
   "execution_count": 1,
   "metadata": {
    "collapsed": true
   },
   "outputs": [],
   "source": [
    "# import of the pyphs.Core class\n",
    "from pyphs import Core"
   ]
  },
  {
   "cell_type": "markdown",
   "metadata": {},
   "source": [
    "The instantiation takes an optional argument `label`:"
   ]
  },
  {
   "cell_type": "code",
   "execution_count": 2,
   "metadata": {
    "collapsed": true
   },
   "outputs": [],
   "source": [
    "# instantiate a pyphs.PHSCore object\n",
    "RL= Core(label='my_core')"
   ]
  },
  {
   "cell_type": "markdown",
   "metadata": {},
   "source": [
    "Now, `RL` is an instance of `pyphs.Core`:"
   ]
  },
  {
   "cell_type": "code",
   "execution_count": 3,
   "metadata": {
    "collapsed": false
   },
   "outputs": [
    {
     "data": {
      "text/plain": [
       "True"
      ]
     },
     "execution_count": 3,
     "metadata": {},
     "output_type": "execute_result"
    }
   ],
   "source": [
    "isinstance(RL, Core)"
   ]
  },
  {
   "cell_type": "code",
   "execution_count": 4,
   "metadata": {
    "collapsed": false
   },
   "outputs": [
    {
     "data": {
      "text/plain": [
       "[]"
      ]
     },
     "execution_count": 4,
     "metadata": {},
     "output_type": "execute_result"
    }
   ],
   "source": [
    "RL.x"
   ]
  },
  {
   "cell_type": "code",
   "execution_count": 5,
   "metadata": {
    "collapsed": false
   },
   "outputs": [
    {
     "data": {
      "text/plain": [
       "0"
      ]
     },
     "execution_count": 5,
     "metadata": {},
     "output_type": "execute_result"
    }
   ],
   "source": [
    "RL.dims.w()"
   ]
  },
  {
   "cell_type": "code",
   "execution_count": 6,
   "metadata": {
    "collapsed": false
   },
   "outputs": [
    {
     "data": {
      "text/plain": [
       "Matrix(0, 0, [])"
      ]
     },
     "execution_count": 6,
     "metadata": {},
     "output_type": "execute_result"
    }
   ],
   "source": [
    "RL.M"
   ]
  },
  {
   "cell_type": "markdown",
   "metadata": {},
   "source": [
    "## 3. Adding the components\n",
    "### 3.1 Defining symbols\n",
    "\n",
    "The pyphs package is based on the `sympy` package to provides the symbolic manipulation of PHS structures. To declare symbols, we use the `Core.symbols` method. As an example, we declare below the symbols associated with the coil:\n",
    "\n",
    "* the state $x_L$ (magnetic flux of the coil measured in Weber), and\n",
    "* the parameter $L$ (coil inductance measured in Henry)."
   ]
  },
  {
   "cell_type": "code",
   "execution_count": 7,
   "metadata": {
    "collapsed": false
   },
   "outputs": [
    {
     "data": {
      "text/plain": [
       "xL"
      ]
     },
     "execution_count": 7,
     "metadata": {},
     "output_type": "execute_result"
    }
   ],
   "source": [
    "xL, L = RL.symbols(['xL', 'L'])\n",
    "xL"
   ]
  },
  {
   "cell_type": "markdown",
   "metadata": {},
   "source": [
    "> Notice all symbols in `PyPHS` are assumed **real-valued only**. This is to alleviate complex solutions during the manipulation of expressions."
   ]
  },
  {
   "cell_type": "markdown",
   "metadata": {},
   "source": [
    "### 3.2 Defining expressions\n",
    "Now, the variables `xL` and `L` are instances of the `Core.symbols` object, and expressions are defined with the standard `sympy` syntax. As an example, we define below the storage function associated with the coil $H_L(x_L)=\\frac{x_L^2}{2L}$:"
   ]
  },
  {
   "cell_type": "code",
   "execution_count": 8,
   "metadata": {
    "collapsed": true
   },
   "outputs": [],
   "source": [
    "HL = xL**2/(2*L)"
   ]
  },
  {
   "cell_type": "markdown",
   "metadata": {},
   "source": [
    "### 3.3 The `add_storages` method\n",
    "To include a storage component to a `Core`, we make use of the `add_storages` method. As an example, the coil is added to the `Core` object as follows:"
   ]
  },
  {
   "cell_type": "code",
   "execution_count": 9,
   "metadata": {
    "collapsed": false
   },
   "outputs": [
    {
     "data": {
      "text/plain": [
       "[xL]"
      ]
     },
     "execution_count": 9,
     "metadata": {},
     "output_type": "execute_result"
    }
   ],
   "source": [
    "RL.add_storages(xL, HL)\n",
    "RL.x"
   ]
  },
  {
   "cell_type": "code",
   "execution_count": 10,
   "metadata": {
    "collapsed": false
   },
   "outputs": [
    {
     "data": {
      "text/plain": [
       "xL**2/(2*L)"
      ]
     },
     "execution_count": 10,
     "metadata": {},
     "output_type": "execute_result"
    }
   ],
   "source": [
    "RL.H"
   ]
  },
  {
   "cell_type": "markdown",
   "metadata": {},
   "source": [
    "### 3.4 The `add_dissipations` method\n",
    "To include a dissipative component to a `Core`, we make use of the `add_dissipations` method. Recall the resistor is decribed by:\n",
    "* the dissipative variable $w_R$ (resistor current),\n",
    "* the parameter $R$ (electric resistance), and \n",
    "* the dissipation function $z_R(w_R)=R\\,w_R$.\n",
    "\n",
    "This component is added to the `Core` object as follows: "
   ]
  },
  {
   "cell_type": "code",
   "execution_count": 11,
   "metadata": {
    "collapsed": true
   },
   "outputs": [],
   "source": [
    "wR, R = RL.symbols(['wR', 'R'])    # define sympy symbols\n",
    "zR = R*wR                           # define sympy expression\n",
    "RL.add_dissipations(wR, zR)        # add dissipation to the `core` object"
   ]
  },
  {
   "cell_type": "markdown",
   "metadata": {},
   "source": [
    "Now, the dissipative variable of the `core` object includes `wR` only:"
   ]
  },
  {
   "cell_type": "code",
   "execution_count": 12,
   "metadata": {
    "collapsed": false
   },
   "outputs": [
    {
     "data": {
      "text/plain": [
       "[wR]"
      ]
     },
     "execution_count": 12,
     "metadata": {},
     "output_type": "execute_result"
    }
   ],
   "source": [
    "RL.w"
   ]
  },
  {
   "cell_type": "markdown",
   "metadata": {},
   "source": [
    "and the dissipation function is given by `zR` only:"
   ]
  },
  {
   "cell_type": "code",
   "execution_count": 13,
   "metadata": {
    "collapsed": false
   },
   "outputs": [
    {
     "data": {
      "text/plain": [
       "[R*wR]"
      ]
     },
     "execution_count": 13,
     "metadata": {},
     "output_type": "execute_result"
    }
   ],
   "source": [
    "RL.z"
   ]
  },
  {
   "cell_type": "markdown",
   "metadata": {},
   "source": [
    "### 3.5 The `add_ports` method\n",
    "To include an external port to a `PHSCore` object, we make use of the `core.add_ports` method. Below, we define the external port with input $u=v_{\\mathrm{out}}$ and output $y=i_{\\mathrm{out}}$ (notice the symbols do not reflect the actual physical meaning of $u$ and $y$):"
   ]
  },
  {
   "cell_type": "code",
   "execution_count": 14,
   "metadata": {
    "collapsed": true
   },
   "outputs": [],
   "source": [
    "u1, y1, u2, y2 = RL.symbols(['v1', 'i1', 'v2', 'i2']) # define sympy symbols\n",
    "RL.add_ports([u1, u2], [y1, y2])                  # add the port to the `core` object"
   ]
  },
  {
   "cell_type": "code",
   "execution_count": 15,
   "metadata": {
    "collapsed": false
   },
   "outputs": [
    {
     "data": {
      "text/plain": [
       "[v1, v2]"
      ]
     },
     "execution_count": 15,
     "metadata": {},
     "output_type": "execute_result"
    }
   ],
   "source": [
    "RL.u"
   ]
  },
  {
   "cell_type": "code",
   "execution_count": 16,
   "metadata": {
    "collapsed": false
   },
   "outputs": [
    {
     "data": {
      "text/plain": [
       "[i1, i2]"
      ]
     },
     "execution_count": 16,
     "metadata": {},
     "output_type": "execute_result"
    }
   ],
   "source": [
    "RL.y"
   ]
  },
  {
   "cell_type": "markdown",
   "metadata": {},
   "source": [
    "## 4. Defining the interconnection structure\n",
    "The interconnection structure of a PHS is defined by the matrix $\\mathbf M$ structured as $$\\mathbf M = \\mathbf J- \\mathbf R,$$ where \n",
    "* the skew-symmetric matrix $\\mathbf J = \\frac{1}{2}\\left(\\mathbf M- \\mathbf M^\\intercal\\right) $ encodes the *conservative interconnection*, and \n",
    "* the symmetric positive definite matrix $\\mathbf R = \\frac{-1}{2}\\left(\\mathbf M + \\mathbf M^\\intercal\\right)$ encodes the *dissipative interconnection*.\n",
    "\n",
    "These matrices are decomposed in blocks as follows:\n",
    "$$\\mathbf M = \\left( \n",
    "\\begin{array}{lll}\n",
    "\\mathbf M_{\\mathrm{xx}} & \\mathbf M_{\\mathrm{xw}} & \\mathbf M_{\\mathrm{xy}} \\\\\n",
    "\\mathbf M_{\\mathrm{wx}} & \\mathbf M_{\\mathrm{ww}} & \\mathbf M_{\\mathrm{wy}} \\\\\n",
    "\\mathbf M_{\\mathrm{yx}} & \\mathbf M_{\\mathrm{ww}} & \\mathbf M_{\\mathrm{yy}} \\\\\n",
    "\\end{array}\\right), \n",
    "$$\n",
    "$$\n",
    "\\mathbf J = \\left( \n",
    "\\begin{array}{lll}\n",
    "\\mathbf J_{\\mathrm{xx}} & \\mathbf J_{\\mathrm{xw}} & \\mathbf J_{\\mathrm{xy}} \\\\\n",
    "\\mathbf J_{\\mathrm{wx}} & \\mathbf J_{\\mathrm{ww}} & \\mathbf J_{\\mathrm{wy}} \\\\\n",
    "\\mathbf J_{\\mathrm{yx}} & \\mathbf J_{\\mathrm{ww}} & \\mathbf J_{\\mathrm{yy}} \\\\\n",
    "\\end{array}\\right), \\quad\\mathbf R = \\left( \n",
    "\\begin{array}{lll}\n",
    "\\mathbf R_{\\mathrm{xx}} & \\mathbf R_{\\mathrm{xw}} & \\mathbf R_{\\mathrm{xy}} \\\\\n",
    "\\mathbf R_{\\mathrm{wx}} & \\mathbf R_{\\mathrm{ww}} & \\mathbf R_{\\mathrm{wy}} \\\\\n",
    "\\mathbf R_{\\mathrm{yx}} & \\mathbf R_{\\mathrm{ww}} & \\mathbf R_{\\mathrm{yy}} \\\\\n",
    "\\end{array}\\right).$$\n",
    "\n",
    "For the above description of the RLC circuit, the matrices are $$\\mathbf M = \\mathbf J = \\left(\\begin{array}{cc|c|c}\n",
    "0 & -1 & -1 & -1\\\\ \n",
    "1 & 0 & 0 & 0 \\\\ \\hline\n",
    "1 & 0 & 0 & 0 \\\\  \\hline\n",
    "1 & 0 & 0 & 0\n",
    "\\end{array}\\right),$$ \n",
    "that is, $\\mathbf R=0$. \n",
    "\n",
    "> Notice `core.M` only is an attribute, all other matrices are accessed with *getters* (e.g. `core.J()`, `core.Jxx()`, `core.Rxy()`, `core.Mwy()`) and *setters* (e.g. `core.set_J()`, `core.set_Jxx()`, `core.set_Rxy()`, `core.set_Mwy()`).\n",
    "\n",
    "First, we initialize the matrix $\\mathbf M$ with zeros:"
   ]
  },
  {
   "cell_type": "code",
   "execution_count": 17,
   "metadata": {
    "collapsed": false
   },
   "outputs": [
    {
     "data": {
      "text/plain": [
       "Matrix([\n",
       "[0, 0, 0, 0],\n",
       "[0, 0, 0, 0],\n",
       "[0, 0, 0, 0],\n",
       "[0, 0, 0, 0]])"
      ]
     },
     "execution_count": 17,
     "metadata": {},
     "output_type": "execute_result"
    }
   ],
   "source": [
    "RL.init_M()\n",
    "\n",
    "RL.M"
   ]
  },
  {
   "cell_type": "code",
   "execution_count": 18,
   "metadata": {
    "collapsed": false
   },
   "outputs": [
    {
     "data": {
      "text/plain": [
       "Matrix([\n",
       "[0, 0, 0, 0],\n",
       "[0, 0, 0, 0],\n",
       "[0, 0, 0, 0],\n",
       "[0, 0, 0, 0]])"
      ]
     },
     "execution_count": 18,
     "metadata": {},
     "output_type": "execute_result"
    }
   ],
   "source": [
    "RL.set_Mxx([0])\n",
    "RL.M"
   ]
  },
  {
   "cell_type": "code",
   "execution_count": 19,
   "metadata": {
    "collapsed": false
   },
   "outputs": [
    {
     "data": {
      "text/plain": [
       "Matrix([\n",
       "[0, -1, 0, 0],\n",
       "[1,  0, 0, 0],\n",
       "[0,  0, 0, 0],\n",
       "[0,  0, 0, 0]])"
      ]
     },
     "execution_count": 19,
     "metadata": {},
     "output_type": "execute_result"
    }
   ],
   "source": [
    "Jxw = [[-1]]\n",
    "RL.set_Jxw(Jxw)\n",
    "\n",
    "RL.M"
   ]
  },
  {
   "cell_type": "markdown",
   "metadata": {},
   "source": [
    "> Notice the skew-symmetry (respectively symmetry) of $\\mathbf J$ (respectively $\\mathbf R$) is preserved with the *setters* `core.set_Jab` (respectively `core.set_Rab`), for $\\mathtt{a, b}$ in $(\\mathrm{x, w, y})^2$. Above, $\\mathbf{J}_{\\mathrm{wx}}=-\\mathbf{J}_{\\mathrm{xw}}^{\\intercal}$ has been automatically updated."
   ]
  },
  {
   "cell_type": "code",
   "execution_count": 20,
   "metadata": {
    "collapsed": false
   },
   "outputs": [
    {
     "data": {
      "text/plain": [
       "Matrix([\n",
       "[0, -1, -1, -1],\n",
       "[1,  0,  0,  0],\n",
       "[1,  0,  0,  0],\n",
       "[1,  0,  0,  0]])"
      ]
     },
     "execution_count": 20,
     "metadata": {},
     "output_type": "execute_result"
    }
   ],
   "source": [
    "RL.set_Jxy([[-1, -1]])\n",
    "RL.M"
   ]
  },
  {
   "cell_type": "markdown",
   "metadata": {},
   "source": [
    "Then, the structure matrices are accessed as follows."
   ]
  },
  {
   "cell_type": "code",
   "execution_count": 21,
   "metadata": {
    "collapsed": false
   },
   "outputs": [
    {
     "data": {
      "text/plain": [
       "Matrix([\n",
       "[0, -1, -1, -1],\n",
       "[1,  0,  0,  0],\n",
       "[1,  0,  0,  0],\n",
       "[1,  0,  0,  0]])"
      ]
     },
     "execution_count": 21,
     "metadata": {},
     "output_type": "execute_result"
    }
   ],
   "source": [
    "RL.M"
   ]
  },
  {
   "cell_type": "code",
   "execution_count": 22,
   "metadata": {
    "collapsed": false
   },
   "outputs": [
    {
     "data": {
      "text/plain": [
       "Matrix([\n",
       "[  0, -1.0, -1.0, -1.0],\n",
       "[1.0,    0,    0,    0],\n",
       "[1.0,    0,    0,    0],\n",
       "[1.0,    0,    0,    0]])"
      ]
     },
     "execution_count": 22,
     "metadata": {},
     "output_type": "execute_result"
    }
   ],
   "source": [
    "RL.J()"
   ]
  },
  {
   "cell_type": "code",
   "execution_count": 23,
   "metadata": {
    "collapsed": false,
    "scrolled": false
   },
   "outputs": [
    {
     "data": {
      "text/plain": [
       "Matrix([\n",
       "[0, 0, 0, 0],\n",
       "[0, 0, 0, 0],\n",
       "[0, 0, 0, 0],\n",
       "[0, 0, 0, 0]])"
      ]
     },
     "execution_count": 23,
     "metadata": {},
     "output_type": "execute_result"
    }
   ],
   "source": [
    "RL.R()"
   ]
  },
  {
   "cell_type": "markdown",
   "metadata": {},
   "source": [
    "So that we recover $\\mathbf{M}$ by substracting $\\mathbf{J}$ (skew-symmetric part) and $\\mathbf{R}$ (symmetric part)."
   ]
  },
  {
   "cell_type": "markdown",
   "metadata": {},
   "source": [
    "# 5 How to connect two PHS?"
   ]
  },
  {
   "cell_type": "markdown",
   "metadata": {},
   "source": [
    "This section describes how to connect two `Core` instances. \n",
    "We consider the example of the Thiele-Small model of a loudspeaker, that can be seen as the connexion between an RL circuit and a mass-spring-damper (MKA) system. The relation between electrical and mechanical domain is performed by a gyrator $BL$.  \n",
    "\n",
    "### 5.1 The Mass-spring damper PHS\n",
    "\n",
    "\n",
    "* $x_K$ is the spring position so that $v_K = \\frac{\\mathrm d x_K}{\\mathrm d  t}$ is the spring velocity,  \n",
    "* $x_M$ is the mass momentum so that $f_M = \\frac{\\mathrm d x_M}{\\mathrm d  t}$ is the force applied on the mass,  \n",
    "* $w_A= v_A$ is the damper velocity, \n",
    "* $y_3=v_3$ is the velocity of port #3 \n",
    "* $u_3=f_3$ is the force applied on the port #3.\n",
    "\n",
    "For this tutorial, the constitutive laws are:\n",
    "* the storage function (Hamiltonian) $$H(x_M)=\\frac{x_M^2}{2M}$$ so that the (linear) velocity of the mass is $v_M=\\frac{\\partial H}{\\partial x_M}=\\frac{x_M}{M}$ and $$H(x_K)=\\frac{Kx_K^2}{2}$$ so that the (linear) force applied on the spring is $f_K = Kx_K$. \n",
    "* the linear dissipation function $z_A(w_A)= A \\,w_A = f_A$ with $f_A$ force applied on the damper. \n",
    "\n",
    "\n",
    "The *Port-Hamiltonian Systems* (PHS) formalism of the one-port MKA system is\n",
    "\n",
    "\\begin{equation}\n",
    "\\begin{pmatrix}\n",
    "\\frac{dx_K}{dt} \\\\\n",
    "\\frac{dx_M}{dt} \\\\\n",
    "\\hline\n",
    "w_A \\\\\n",
    "\\hline\n",
    "v_3 \n",
    "\\end{pmatrix}\n",
    "= \n",
    "\\left(\n",
    "\\begin{array}{c c|c|c}\n",
    "0 &1 &0& 0 \\\\\n",
    "-1 &0 &-1 &-1 \\\\\n",
    "\\hline\n",
    "0 &1 &0& 0 \\\\\n",
    "\\hline\n",
    "0 &1& 0 &0\n",
    "\\end{array}\n",
    "\\right)\n",
    "\\begin{pmatrix}\n",
    "\\frac{dH}{dx_K} \\\\\n",
    "\\frac{dH}{dx_M} \\\\\n",
    "\\hline\n",
    "z(w_A) \\\\\n",
    "\\hline\n",
    "f_3\n",
    "\\end{pmatrix}\n",
    "\\end{equation}\n",
    "\n",
    "We build the MKA Core object as previously for the RL circuit:"
   ]
  },
  {
   "cell_type": "code",
   "execution_count": 24,
   "metadata": {
    "collapsed": true
   },
   "outputs": [],
   "source": [
    "# Instantiate the MKA Core\n",
    "MKA = Core()\n",
    "\n",
    "# Define all symbols\n",
    "xK, K, xM, M, wA, A, u3, v3 = MKA.symbols(['xK', 'K', 'xM', 'M', 'wA', 'A', 'f3', 'v3'])\n",
    "\n",
    "# Define the constitutive laws\n",
    "HK = (xK**2)*(K/2)\n",
    "HM = (xM**2)/(2*M)\n",
    "zA = wA*A \n",
    "\n",
    "# Add all the components\n",
    "MKA.add_storages([xK, xM], HK + HM)\n",
    "MKA.add_dissipations(wA, zA)\n",
    "MKA.add_ports(u3, v3)\n",
    "\n",
    "# Initialize the interconnexion matrix\n",
    "MKA.init_M()\n",
    "\n",
    "# It is possible to define M at once with a sympy.SparseMatrix\n",
    "import sympy\n",
    "MKA.M = sympy.SparseMatrix([[0, 1, 0, 0], [-1, 0, -1, -1], [0, 1, 0, 0], [0, 1, 0, 0]])"
   ]
  },
  {
   "cell_type": "markdown",
   "metadata": {},
   "source": [
    "### 5.2 Connection of RL and MKA\n",
    "Now we add both `Core` instances with the `+` operator to create a new PHS called SPK."
   ]
  },
  {
   "cell_type": "code",
   "execution_count": 25,
   "metadata": {
    "collapsed": true
   },
   "outputs": [],
   "source": [
    "SPK = RL + MKA"
   ]
  },
  {
   "cell_type": "markdown",
   "metadata": {},
   "source": [
    "All quantities from `RL` and `MKA` are concatenated into `SPK` and the energy is added:"
   ]
  },
  {
   "cell_type": "code",
   "execution_count": 26,
   "metadata": {
    "collapsed": false
   },
   "outputs": [
    {
     "data": {
      "text/plain": [
       "[xL, xK, xM]"
      ]
     },
     "execution_count": 26,
     "metadata": {},
     "output_type": "execute_result"
    }
   ],
   "source": [
    "SPK.x"
   ]
  },
  {
   "cell_type": "code",
   "execution_count": 27,
   "metadata": {
    "collapsed": false
   },
   "outputs": [
    {
     "data": {
      "text/plain": [
       "K*xK**2/2 + xM**2/(2*M) + xL**2/(2*L)"
      ]
     },
     "execution_count": 27,
     "metadata": {},
     "output_type": "execute_result"
    }
   ],
   "source": [
    "SPK.H"
   ]
  },
  {
   "cell_type": "markdown",
   "metadata": {},
   "source": [
    "Then we define the connexion between RL and MKA with the `add_connector` method. It takes 3 arguments:\n",
    "- The output of the the first PHS port (here $y_2$ for RL) \n",
    "- The output of the second PHS port (here $y_3$ for MKA)\n",
    "- The physical law that connects both PHS (here $BL$)"
   ]
  },
  {
   "cell_type": "code",
   "execution_count": 28,
   "metadata": {
    "collapsed": true
   },
   "outputs": [],
   "source": [
    "# Define the symbol BL\n",
    "BL = SPK.symbols('BL')\n",
    "\n",
    "# Add the connector between the port #1 of RL and the port #3 of MKA\n",
    "SPK.add_connector((SPK.y.index(RL.y[1]), SPK.y.index(MKA.y[0])), alpha = BL)"
   ]
  },
  {
   "cell_type": "markdown",
   "metadata": {},
   "source": [
    "Then a second method `connect` is called to apply changes in the PHS structure:"
   ]
  },
  {
   "cell_type": "code",
   "execution_count": 29,
   "metadata": {
    "collapsed": true
   },
   "outputs": [],
   "source": [
    "# Apply the connector\n",
    "SPK.connect()"
   ]
  },
  {
   "cell_type": "markdown",
   "metadata": {},
   "source": [
    "The new interconnexion matrix M reads"
   ]
  },
  {
   "cell_type": "code",
   "execution_count": 30,
   "metadata": {
    "collapsed": false
   },
   "outputs": [
    {
     "data": {
      "text/plain": [
       "Matrix([\n",
       "[  0,  0, BL, -1,  0, -1],\n",
       "[  0,  0,  1,  0,  0,  0],\n",
       "[-BL, -1,  0,  0, -1,  0],\n",
       "[  1,  0,  0,  0,  0,  0],\n",
       "[  0,  0,  1,  0,  0,  0],\n",
       "[  1,  0,  0,  0,  0,  0]])"
      ]
     },
     "execution_count": 30,
     "metadata": {},
     "output_type": "execute_result"
    }
   ],
   "source": [
    "SPK.M"
   ]
  },
  {
   "cell_type": "markdown",
   "metadata": {},
   "source": [
    "that takes into account the connexion between electrical (RL) and mechanical (MKA) domains."
   ]
  },
  {
   "cell_type": "markdown",
   "metadata": {},
   "source": [
    "\n",
    "## 6. Setting the physical parameters values\n",
    "The matching between the parameters symbols defined above (here `L`, `R`, `K`, `M`, `A` and `BL`) and their actual value is stored in the python dictionary `Core.subs`, with parameters symbols as the dictionary's keys and numerical values as the dictionary's values. Here, the physical parameters are\n",
    "* $L=11\\times 10^{-3}$H, \n",
    "* $R=5.7$ $\\Omega$, \n",
    "* $K=4e7$ N/m, \n",
    "* $M = 19$g,\n",
    "* $A = 0.406$ Ns/m\n",
    "\n",
    "This is stored as follows:"
   ]
  },
  {
   "cell_type": "code",
   "execution_count": 31,
   "metadata": {
    "collapsed": true
   },
   "outputs": [],
   "source": [
    "# Physical parameters \n",
    "L_value = 11e-3     #11mH\n",
    "R_value = 5.7   # 5.7 Ohm\n",
    "K_value = 4e7 # N/m                         \n",
    "M_value = 0.019 # 19g\n",
    "A_value = 0.406 #Ns/m\n",
    "BL_value = 2.99 #V/A\n",
    "\n",
    "subs = {L: L_value,\n",
    "        R: R_value,\n",
    "        K: K_value, \n",
    "        M: M_value,\n",
    "        A: A_value,\n",
    "        BL:BL_value\n",
    "       }\n",
    "\n",
    "SPK.subs.update(subs)"
   ]
  },
  {
   "cell_type": "markdown",
   "metadata": {},
   "source": [
    "It is possible to replace the constant parameters $BL$ by a function that depends on $x_K$:\n",
    "$\\mathrm{BLnl}(x_k) \\triangleq \\mathrm{B}\\,e^{-x_k^2}$"
   ]
  },
  {
   "cell_type": "code",
   "execution_count": 32,
   "metadata": {
    "collapsed": false
   },
   "outputs": [
    {
     "data": {
      "text/plain": [
       "Matrix([\n",
       "[             0,  0, B*exp(-xK**2), -1,  0, -1],\n",
       "[             0,  0,             1,  0,  0,  0],\n",
       "[-B*exp(-xK**2), -1,             0,  0, -1,  0],\n",
       "[             1,  0,             0,  0,  0,  0],\n",
       "[             0,  0,             1,  0,  0,  0],\n",
       "[             1,  0,             0,  0,  0,  0]])"
      ]
     },
     "execution_count": 32,
     "metadata": {},
     "output_type": "execute_result"
    }
   ],
   "source": [
    "# Define the new expression\n",
    "B = SPK.symbols('B')\n",
    "BLnl = B*sympy.exp(-(SPK.x[1])**2)\n",
    "\n",
    "#Associate the expression to BL\n",
    "SPK.substitute(subs={BL: BLnl})\n",
    "\n",
    "# Print the changes in M\n",
    "SPK.M"
   ]
  },
  {
   "cell_type": "markdown",
   "metadata": {},
   "source": [
    "> Notice the option `selfsubs=True` can be passed to `SPK.apply_subs` to apply the substitution of all parameters in dictionary `core.subs`."
   ]
  },
  {
   "cell_type": "markdown",
   "metadata": {},
   "source": [
    "## 7. The `reduce_z` method\n",
    "The resistive interconnection due to the linear physical laws in z can be incorporated in the matrix $\\mathbf R$, so that the dimension of $z$ is reduced to that of its nonlinear part."
   ]
  },
  {
   "cell_type": "code",
   "execution_count": 33,
   "metadata": {
    "collapsed": false
   },
   "outputs": [],
   "source": [
    "SPK.reduce_z()"
   ]
  },
  {
   "cell_type": "markdown",
   "metadata": {},
   "source": [
    "> Notice the methods `split_linear()` and `reduce_z()` change the organization of the vectors $\\mathbf x$ and $\\mathbf w$ (compare the evaluation below with the original definition)."
   ]
  },
  {
   "cell_type": "code",
   "execution_count": 34,
   "metadata": {
    "collapsed": false
   },
   "outputs": [
    {
     "data": {
      "text/plain": [
       "Matrix([\n",
       "[1.0*R, 0,     0, 0],\n",
       "[    0, 0,     0, 0],\n",
       "[    0, 0, 1.0*A, 0],\n",
       "[    0, 0,     0, 0]])"
      ]
     },
     "execution_count": 34,
     "metadata": {},
     "output_type": "execute_result"
    }
   ],
   "source": [
    "SPK.R()"
   ]
  },
  {
   "cell_type": "code",
   "execution_count": 35,
   "metadata": {
    "collapsed": false
   },
   "outputs": [
    {
     "data": {
      "text/plain": [
       "Matrix([\n",
       "[            -R,  0, B*exp(-xK**2), -1],\n",
       "[             0,  0,             1,  0],\n",
       "[-B*exp(-xK**2), -1,            -A,  0],\n",
       "[             1,  0,             0,  0]])"
      ]
     },
     "execution_count": 35,
     "metadata": {},
     "output_type": "execute_result"
    }
   ],
   "source": [
    "SPK.M"
   ]
  },
  {
   "cell_type": "code",
   "execution_count": 36,
   "metadata": {
    "collapsed": false
   },
   "outputs": [
    {
     "data": {
      "text/plain": [
       "[]"
      ]
     },
     "execution_count": 36,
     "metadata": {},
     "output_type": "execute_result"
    }
   ],
   "source": [
    "SPK.z"
   ]
  },
  {
   "cell_type": "markdown",
   "metadata": {},
   "source": [
    "## 8. The `subsinverse` method\n",
    "Some inverse relations occurs, for instance in the expression of $H$. They can be simplified thanks to the method `subsinverse`, that replaces inversed symbols by the same symbols with prefix 'inv', which is appended to the dictionary  'Core.subs.  "
   ]
  },
  {
   "cell_type": "code",
   "execution_count": 37,
   "metadata": {
    "collapsed": false
   },
   "outputs": [
    {
     "name": "stdout",
     "output_type": "stream",
     "text": [
      "Remove Inverse of Parameters...\n"
     ]
    }
   ],
   "source": [
    "SPK.subsinverse()"
   ]
  },
  {
   "cell_type": "code",
   "execution_count": 38,
   "metadata": {
    "collapsed": false
   },
   "outputs": [
    {
     "data": {
      "text/plain": [
       "K*xK**2/2 + invL*xL**2/2 + invM*xM**2/2"
      ]
     },
     "execution_count": 38,
     "metadata": {},
     "output_type": "execute_result"
    }
   ],
   "source": [
    "SPK.H"
   ]
  },
  {
   "cell_type": "code",
   "execution_count": 39,
   "metadata": {
    "collapsed": false
   },
   "outputs": [
    {
     "data": {
      "text/plain": [
       "{invL: 90.90909090909092,\n",
       " K: 40000000.0,\n",
       " A: 0.406,\n",
       " R: 5.7,\n",
       " invM: 52.631578947368425,\n",
       " L: 0.011,\n",
       " M: 0.019}"
      ]
     },
     "execution_count": 39,
     "metadata": {},
     "output_type": "execute_result"
    }
   ],
   "source": [
    "SPK.subs"
   ]
  },
  {
   "cell_type": "markdown",
   "metadata": {},
   "source": [
    "## Bonus : Generate the $\\LaTeX$ description\n",
    "A `.tex` file containing a description of the system can now be generated with the `core.texwrite` command as follows:"
   ]
  },
  {
   "cell_type": "code",
   "execution_count": 40,
   "metadata": {
    "collapsed": true,
    "scrolled": true
   },
   "outputs": [],
   "source": [
    "SPK.texwrite(path=None, title=None, authors=None, affiliations=None)"
   ]
  },
  {
   "cell_type": "markdown",
   "metadata": {},
   "source": [
    "A [SPK.tex](/pyphs_outputs/RLC/core.tex) has been generated, the compilation of which yields the following [core.pdf](/pyphs_outputs/RLC/SPK.pdf). A valid file name and/or a document title can be specified."
   ]
  },
  {
   "cell_type": "markdown",
   "metadata": {},
   "source": [
    "## Bonus 2 : Print the PHS structure"
   ]
  },
  {
   "cell_type": "code",
   "execution_count": 41,
   "metadata": {
    "collapsed": false
   },
   "outputs": [
    {
     "name": "stdout",
     "output_type": "stream",
     "text": [
      "⎡       ⎡                    2    ⎤       ⎤\n",
      "⎢       ⎢                 -xK     ⎥       ⎥\n",
      "⎢⎡dxL⎤, ⎢   -R     0   B⋅ℯ      -1⎥, ⎡gxL⎤⎥\n",
      "⎢⎢   ⎥  ⎢                         ⎥  ⎢   ⎥⎥\n",
      "⎢⎢dxK⎥  ⎢   0      0      1     0 ⎥  ⎢gxK⎥⎥\n",
      "⎢⎢   ⎥  ⎢                         ⎥  ⎢   ⎥⎥\n",
      "⎢⎢dxM⎥  ⎢       2                 ⎥  ⎢gxM⎥⎥\n",
      "⎢⎢   ⎥  ⎢    -xK                  ⎥  ⎢   ⎥⎥\n",
      "⎢⎣i₁ ⎦  ⎢-B⋅ℯ      -1    -A     0 ⎥  ⎣v₁ ⎦⎥\n",
      "⎢       ⎢                         ⎥       ⎥\n",
      "⎣       ⎣   1      0      0     0 ⎦       ⎦\n"
     ]
    }
   ],
   "source": [
    "SPK.pprint()"
   ]
  }
 ],
 "metadata": {
  "anaconda-cloud": {},
  "kernelspec": {
   "display_name": "Python [Root]",
   "language": "python",
   "name": "Python [Root]"
  },
  "language_info": {
   "codemirror_mode": {
    "name": "ipython",
    "version": 3
   },
   "file_extension": ".py",
   "mimetype": "text/x-python",
   "name": "python",
   "nbconvert_exporter": "python",
   "pygments_lexer": "ipython3",
   "version": "3.5.2"
  }
 },
 "nbformat": 4,
 "nbformat_minor": 1
}
